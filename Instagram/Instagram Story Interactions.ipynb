{
 "cells": [
  {
   "cell_type": "markdown",
   "id": "b60d89e4",
   "metadata": {},
   "source": [
    "# Imports"
   ]
  },
  {
   "cell_type": "code",
   "execution_count": 7,
   "id": "e7b6d86c",
   "metadata": {},
   "outputs": [],
   "source": [
    "import os \n",
    "import pandas as pd\n",
    "from datetime import datetime\n",
    "import json\n",
    "import ast"
   ]
  },
  {
   "cell_type": "markdown",
   "id": "16fa6c17",
   "metadata": {},
   "source": [
    "# "
   ]
  },
  {
   "cell_type": "code",
   "execution_count": 3,
   "id": "e1d5b07d",
   "metadata": {},
   "outputs": [
    {
     "name": "stdout",
     "output_type": "stream",
     "text": [
      "{'2022-06-28 00:00:00': 'v.faye_20220628_part_1'}\n"
     ]
    }
   ],
   "source": [
    "igdatapath = '../../Instagram'\n",
    "validfiles = os.listdir(igdatapath)\n",
    "# list of filenames\n",
    "filenames = [filename for filename in validfiles if 'v.faye' in filename]\n",
    "# list of dates, corresponding order of filenames\n",
    "dates_downloaded = [str(datetime.strptime(filename.split('_')[1], '%Y%m%d')) for filename in validfiles if 'v.faye' in filename]\n",
    "dates_files = list(zip(dates_downloaded, filenames))\n",
    "dates_files = dict((x, y) for x, y in dates_files)\n",
    "print(dates_files)"
   ]
  },
  {
   "cell_type": "code",
   "execution_count": 81,
   "id": "47f19e8d",
   "metadata": {},
   "outputs": [
    {
     "name": "stdout",
     "output_type": "stream",
     "text": [
      "{'title': 'josh_cruzdardz', 'media_list_data': [], 'string_list_data': [{'href': '', 'value': '', 'timestamp': 1656326156}]}\n",
      "{'title': 'kathy.taladro', 'media_list_data': [], 'string_list_data': [{'href': '', 'value': '', 'timestamp': 1656308097}]}\n",
      "{'title': 'alicia.kapeecia', 'media_list_data': [], 'string_list_data': [{'href': '', 'value': '', 'timestamp': 1656257018}]}\n",
      "{'title': 'nichooki', 'media_list_data': [], 'string_list_data': [{'href': '', 'value': '', 'timestamp': 1656254366}]}\n",
      "{'title': 'gbbea', 'media_list_data': [], 'string_list_data': [{'href': '', 'value': '', 'timestamp': 1656251680}]}\n",
      "{'title': 'y.lanah', 'media_list_data': [], 'string_list_data': [{'href': '', 'value': '', 'timestamp': 1656250427}]}\n",
      "{'title': 'y.lanah', 'media_list_data': [], 'string_list_data': [{'href': '', 'value': '', 'timestamp': 1656250425}]}\n",
      "{'title': 'y.lanah', 'media_list_data': [], 'string_list_data': [{'href': '', 'value': '', 'timestamp': 1656250423}]}\n",
      "{'title': 'y.lanah', 'media_list_data': [], 'string_list_data': [{'href': '', 'value': '', 'timestamp': 1656250416}]}\n",
      "{'title': 'jjenniferrchang_', 'media_list_data': [], 'string_list_data': [{'href': '', 'value': '', 'timestamp': 1656250409}]}\n",
      "{'title': 'tanyaantero', 'media_list_data': [], 'string_list_data': [{'href': '', 'value': '', 'timestamp': 1656249800}]}\n",
      "{'title': 'anushaakolli', 'media_list_data': [], 'string_list_data': [{'href': '', 'value': '', 'timestamp': 1656184759}]}\n",
      "{'title': 'czarinalaciste', 'media_list_data': [], 'string_list_data': [{'href': '', 'value': '', 'timestamp': 1656166049}]}\n",
      "{'title': 'yen.arc', 'media_list_data': [], 'string_list_data': [{'href': '', 'value': '', 'timestamp': 1656065973}]}\n",
      "{'title': 'fiazhangswanson', 'media_list_data': [], 'string_list_data': [{'href': '', 'value': '', 'timestamp': 1655945455}]}\n",
      "{'title': 'sc4thed', 'media_list_data': [], 'string_list_data': [{'href': '', 'value': '', 'timestamp': 1655888143}]}\n",
      "{'title': 'chikaa_21', 'media_list_data': [], 'string_list_data': [{'href': '', 'value': '', 'timestamp': 1655866274}]}\n",
      "{'title': 'kathy.taladro', 'media_list_data': [], 'string_list_data': [{'href': '', 'value': '', 'timestamp': 1655857271}]}\n",
      "{'title': 'kathy.taladro', 'media_list_data': [], 'string_list_data': [{'href': '', 'value': '', 'timestamp': 1655857270}]}\n",
      "{'title': 'kathy.taladro', 'media_list_data': [], 'string_list_data': [{'href': '', 'value': '', 'timestamp': 1655857269}]}\n",
      "{'title': 'kathy.taladro', 'media_list_data': [], 'string_list_data': [{'href': '', 'value': '', 'timestamp': 1655857268}]}\n",
      "{'title': 'kathy.taladro', 'media_list_data': [], 'string_list_data': [{'href': '', 'value': '', 'timestamp': 1655857267}]}\n",
      "{'title': 'aneeta_phan', 'media_list_data': [], 'string_list_data': [{'href': '', 'value': '', 'timestamp': 1655773496}]}\n",
      "{'title': 'swaglordsavannah', 'media_list_data': [], 'string_list_data': [{'href': '', 'value': '', 'timestamp': 1655599816}]}\n",
      "{'title': 'ultimate_zaddy_', 'media_list_data': [], 'string_list_data': [{'href': '', 'value': '', 'timestamp': 1655599741}]}\n",
      "{'title': 'malalala0704', 'media_list_data': [], 'string_list_data': [{'href': '', 'value': '', 'timestamp': 1655598486}]}\n",
      "{'title': 'kathy.taladro', 'media_list_data': [], 'string_list_data': [{'href': '', 'value': '', 'timestamp': 1655563890}]}\n",
      "{'title': 'yen.arc', 'media_list_data': [], 'string_list_data': [{'href': '', 'value': '', 'timestamp': 1655391815}]}\n",
      "{'title': 'czarinalaciste', 'media_list_data': [], 'string_list_data': [{'href': '', 'value': '', 'timestamp': 1655292159}]}\n",
      "{'title': 'matthewcaingcoy', 'media_list_data': [], 'string_list_data': [{'href': '', 'value': '', 'timestamp': 1655193994}]}\n",
      "{'title': 'ellie.aninahazwe', 'media_list_data': [], 'string_list_data': [{'href': '', 'value': '', 'timestamp': 1655056613}]}\n",
      "{'title': 'ultimate_zaddy_', 'media_list_data': [], 'string_list_data': [{'href': '', 'value': '', 'timestamp': 1655054709}]}\n",
      "{'title': 'ultimate_zaddy_', 'media_list_data': [], 'string_list_data': [{'href': '', 'value': '', 'timestamp': 1655028051}]}\n",
      "{'title': 'ultimate_zaddy_', 'media_list_data': [], 'string_list_data': [{'href': '', 'value': '', 'timestamp': 1655028009}]}\n",
      "{'title': 'n.nlzro', 'media_list_data': [], 'string_list_data': [{'href': '', 'value': '', 'timestamp': 1654991874}]}\n",
      "{'title': 'malalala0704', 'media_list_data': [], 'string_list_data': [{'href': '', 'value': '', 'timestamp': 1654958211}]}\n",
      "{'title': 'fiazhangswanson', 'media_list_data': [], 'string_list_data': [{'href': '', 'value': '', 'timestamp': 1654922523}]}\n",
      "{'title': 'ellaurielle', 'media_list_data': [], 'string_list_data': [{'href': '', 'value': '', 'timestamp': 1654908753}]}\n",
      "{'title': 'antondav.d', 'media_list_data': [], 'string_list_data': [{'href': '', 'value': '', 'timestamp': 1654765240}]}\n",
      "{'title': '___po___', 'media_list_data': [], 'string_list_data': [{'href': '', 'value': '', 'timestamp': 1654705625}]}\n",
      "{'title': 'eeshaaa.____', 'media_list_data': [], 'string_list_data': [{'href': '', 'value': '', 'timestamp': 1654705619}]}\n",
      "{'title': 'eeshaaa.____', 'media_list_data': [], 'string_list_data': [{'href': '', 'value': '', 'timestamp': 1654702973}]}\n",
      "{'title': 'ultimate_zaddy_', 'media_list_data': [], 'string_list_data': [{'href': '', 'value': '', 'timestamp': 1654666569}]}\n",
      "{'title': 'ultimate_zaddy_', 'media_list_data': [], 'string_list_data': [{'href': '', 'value': '', 'timestamp': 1654666569}]}\n",
      "{'title': 'ultimate_zaddy_', 'media_list_data': [], 'string_list_data': [{'href': '', 'value': '', 'timestamp': 1654611052}]}\n",
      "{'title': 'malalala0704', 'media_list_data': [], 'string_list_data': [{'href': '', 'value': '', 'timestamp': 1654563909}]}\n",
      "{'title': 'f.allianadhirah', 'media_list_data': [], 'string_list_data': [{'href': '', 'value': '', 'timestamp': 1654406396}]}\n",
      "{'title': 'joshxando', 'media_list_data': [], 'string_list_data': [{'href': '', 'value': '', 'timestamp': 1654364612}]}\n",
      "{'title': 'ultimate_zaddy_', 'media_list_data': [], 'string_list_data': [{'href': '', 'value': '', 'timestamp': 1654355089}]}\n",
      "{'title': 'malalala0704', 'media_list_data': [], 'string_list_data': [{'href': '', 'value': '', 'timestamp': 1654354078}]}\n",
      "{'title': 'swaglordsavannah', 'media_list_data': [], 'string_list_data': [{'href': '', 'value': '', 'timestamp': 1654274981}]}\n",
      "{'title': '__.mannyy.__', 'media_list_data': [], 'string_list_data': [{'href': '', 'value': '', 'timestamp': 1654127056}]}\n",
      "{'title': 'alicia.kapeecia', 'media_list_data': [], 'string_list_data': [{'href': '', 'value': '', 'timestamp': 1654043285}]}\n",
      "{'title': 'm4rionz', 'media_list_data': [], 'string_list_data': [{'href': '', 'value': '', 'timestamp': 1654042292}]}\n",
      "{'title': 'fairuz.kazi', 'media_list_data': [], 'string_list_data': [{'href': '', 'value': '', 'timestamp': 1653911283}]}\n",
      "{'title': 'n.nlzro', 'media_list_data': [], 'string_list_data': [{'href': '', 'value': '', 'timestamp': 1653909358}]}\n",
      "{'title': 'sugarartistperth', 'media_list_data': [], 'string_list_data': [{'href': '', 'value': '', 'timestamp': 1653626564}]}\n",
      "{'title': 'breakfastwithaneeta', 'media_list_data': [], 'string_list_data': [{'href': '', 'value': '', 'timestamp': 1653624730}]}\n",
      "{'title': 'aanikaz', 'media_list_data': [], 'string_list_data': [{'href': '', 'value': '', 'timestamp': 1653579006}]}\n",
      "{'title': 'chikaa_21', 'media_list_data': [], 'string_list_data': [{'href': '', 'value': '', 'timestamp': 1653501483}]}\n",
      "{'title': 'breanna.larissa', 'media_list_data': [], 'string_list_data': [{'href': '', 'value': '', 'timestamp': 1653416603}]}\n",
      "{'title': 'kelliecraig02', 'media_list_data': [], 'string_list_data': [{'href': '', 'value': '', 'timestamp': 1653181690}]}\n",
      "{'title': 'absilog_', 'media_list_data': [], 'string_list_data': [{'href': '', 'value': '', 'timestamp': 1653181441}]}\n",
      "{'title': 'n.nlzro', 'media_list_data': [], 'string_list_data': [{'href': '', 'value': '', 'timestamp': 1653181244}]}\n",
      "{'title': 'ultimate_zaddy_', 'media_list_data': [], 'string_list_data': [{'href': '', 'value': '', 'timestamp': 1653152343}]}\n",
      "{'title': 'ultimate_zaddy_', 'media_list_data': [], 'string_list_data': [{'href': '', 'value': '', 'timestamp': 1653152341}]}\n",
      "{'title': 'kaiwenlohx', 'media_list_data': [], 'string_list_data': [{'href': '', 'value': '', 'timestamp': 1653034371}]}\n",
      "{'title': 'glessymarie', 'media_list_data': [], 'string_list_data': [{'href': '', 'value': '', 'timestamp': 1652806588}]}\n",
      "{'title': 'breanna.larissa', 'media_list_data': [], 'string_list_data': [{'href': '', 'value': '', 'timestamp': 1652707757}]}\n",
      "{'title': 'musa.arslan_', 'media_list_data': [], 'string_list_data': [{'href': '', 'value': '', 'timestamp': 1652598186}]}\n",
      "{'title': 'glessymarie', 'media_list_data': [], 'string_list_data': [{'href': '', 'value': '', 'timestamp': 1652372430}]}\n",
      "{'title': 'm4rionz', 'media_list_data': [], 'string_list_data': [{'href': '', 'value': '', 'timestamp': 1652174312}]}\n",
      "{'title': 'glessymarie', 'media_list_data': [], 'string_list_data': [{'href': '', 'value': '', 'timestamp': 1651996810}]}\n",
      "{'title': 'ultimate_zaddy_', 'media_list_data': [], 'string_list_data': [{'href': '', 'value': '', 'timestamp': 1651975484}]}\n",
      "{'title': 'jasmainec', 'media_list_data': [], 'string_list_data': [{'href': '', 'value': '', 'timestamp': 1651934508}]}\n",
      "{'title': '__.mannyy.__', 'media_list_data': [], 'string_list_data': [{'href': '', 'value': '', 'timestamp': 1651793978}]}\n",
      "{'title': 'jasmainec', 'media_list_data': [], 'string_list_data': [{'href': '', 'value': '', 'timestamp': 1651588580}]}\n",
      "{'title': 'kathy.taladro', 'media_list_data': [], 'string_list_data': [{'href': '', 'value': '', 'timestamp': 1651575231}]}\n",
      "{'title': '_yingyyyy_', 'media_list_data': [], 'string_list_data': [{'href': '', 'value': '', 'timestamp': 1651481914}]}\n",
      "{'title': '_carinatan', 'media_list_data': [], 'string_list_data': [{'href': '', 'value': '', 'timestamp': 1651480326}]}\n",
      "{'title': 'glessymarie', 'media_list_data': [], 'string_list_data': [{'href': '', 'value': '', 'timestamp': 1651427034}]}\n",
      "{'title': 'antondav.d', 'media_list_data': [], 'string_list_data': [{'href': '', 'value': '', 'timestamp': 1651328821}]}\n",
      "{'title': 'senumi_2190', 'media_list_data': [], 'string_list_data': [{'href': '', 'value': '', 'timestamp': 1651185275}]}\n",
      "{'title': 'senumi_2190', 'media_list_data': [], 'string_list_data': [{'href': '', 'value': '', 'timestamp': 1651185273}]}\n",
      "{'title': 'glessymarie', 'media_list_data': [], 'string_list_data': [{'href': '', 'value': '', 'timestamp': 1651147402}]}\n",
      "{'title': 'kathy.taladro', 'media_list_data': [], 'string_list_data': [{'href': '', 'value': '', 'timestamp': 1651135981}]}\n",
      "{'title': 'czarinalaciste', 'media_list_data': [], 'string_list_data': [{'href': '', 'value': '', 'timestamp': 1650979335}]}\n",
      "{'title': 'ben.jaemin', 'media_list_data': [], 'string_list_data': [{'href': '', 'value': '', 'timestamp': 1650972634}]}\n",
      "{'title': 'antondav.d', 'media_list_data': [], 'string_list_data': [{'href': '', 'value': '', 'timestamp': 1650884744}]}\n",
      "{'title': 'aneeta_phan', 'media_list_data': [], 'string_list_data': [{'href': '', 'value': '', 'timestamp': 1650848878}]}\n",
      "{'title': 'gracemonkhouse', 'media_list_data': [], 'string_list_data': [{'href': '', 'value': '', 'timestamp': 1650710083}]}\n",
      "{'title': 'glessymarie', 'media_list_data': [], 'string_list_data': [{'href': '', 'value': '', 'timestamp': 1650541259}]}\n",
      "{'title': '_jjng', 'media_list_data': [], 'string_list_data': [{'href': '', 'value': '', 'timestamp': 1650327947}]}\n",
      "{'title': 'senumi_2190', 'media_list_data': [], 'string_list_data': [{'href': '', 'value': '', 'timestamp': 1650161760}]}\n",
      "{'title': 'antondav.d', 'media_list_data': [], 'string_list_data': [{'href': '', 'value': '', 'timestamp': 1649927947}]}\n",
      "{'title': 'cutiekam', 'media_list_data': [], 'string_list_data': [{'href': '', 'value': '', 'timestamp': 1649841747}]}\n",
      "{'title': 'eeshaaa.____', 'media_list_data': [], 'string_list_data': [{'href': '', 'value': '', 'timestamp': 1649782338}]}\n",
      "{'title': 'rhianna.taa', 'media_list_data': [], 'string_list_data': [{'href': '', 'value': '', 'timestamp': 1649782299}]}\n",
      "{'title': 'calvin_tran__', 'media_list_data': [], 'string_list_data': [{'href': '', 'value': '', 'timestamp': 1649336481}]}\n",
      "{'title': 'filausuwa', 'media_list_data': [], 'string_list_data': [{'href': '', 'value': '', 'timestamp': 1649158300}]}\n",
      "{'title': 'filausuwa', 'media_list_data': [], 'string_list_data': [{'href': '', 'value': '', 'timestamp': 1649158296}]}\n",
      "{'title': 'filausuwa', 'media_list_data': [], 'string_list_data': [{'href': '', 'value': '', 'timestamp': 1649158287}]}\n",
      "{'title': 'filausuwa', 'media_list_data': [], 'string_list_data': [{'href': '', 'value': '', 'timestamp': 1648539220}]}\n",
      "{'title': 'filausuwa', 'media_list_data': [], 'string_list_data': [{'href': '', 'value': '', 'timestamp': 1648539218}]}\n",
      "{'title': 'filausuwa', 'media_list_data': [], 'string_list_data': [{'href': '', 'value': '', 'timestamp': 1648539212}]}\n",
      "{'title': 'kathy.taladro', 'media_list_data': [], 'string_list_data': [{'href': '', 'value': '', 'timestamp': 1647535318}]}\n",
      "{'title': 'glessymarie', 'media_list_data': [], 'string_list_data': [{'href': '', 'value': '', 'timestamp': 1647342345}]}\n"
     ]
    }
   ],
   "source": [
    "filename = 'v.faye_20220628_part_1'\n",
    "folder = 'story_sticker_interactions'\n",
    "subfolders = os.listdir(f'{igdatapath}/{filename}/{folder}')\n",
    "\n",
    "# clean data\n",
    "cdata = []\n",
    "for sfolder in [subfolders[1]]:\n",
    "    with open(f'{igdatapath}/{filename}/{folder}/{sfolder}') as f:\n",
    "        jsondata = json.load(f)\n",
    "        strdata = str(list(jsondata.values())[0])\n",
    "        strdata = strdata[strdata.find('[')+1:-1]\n",
    "        strdata = strdata.split(\", {'title': \")\n",
    "    i=int()\n",
    "    for dat in strdata:\n",
    "        if i>0:\n",
    "            cdata.append(\"{'title': \"+dat)\n",
    "        else:\n",
    "            cdata.append(dat)\n",
    "        i+=1\n",
    "    for i in range(len(cdata)):\n",
    "        print(cdata[i])\n",
    "        \n",
    "\n"
   ]
  },
  {
   "cell_type": "code",
   "execution_count": 22,
   "id": "87196c72",
   "metadata": {},
   "outputs": [
    {
     "name": "stdout",
     "output_type": "stream",
     "text": [
      "['2022-06-28 00:00:00']\n",
      "['v.faye_20220628_part_1']\n",
      "[('2022-06-28 00:00:00', 'v.faye_20220628_part_1')]\n"
     ]
    },
    {
     "data": {
      "text/plain": [
       "{'2022-06-28 00:00:00': 'v.faye_20220628_part_1'}"
      ]
     },
     "execution_count": 22,
     "metadata": {},
     "output_type": "execute_result"
    }
   ],
   "source": []
  },
  {
   "cell_type": "code",
   "execution_count": null,
   "id": "df784724",
   "metadata": {},
   "outputs": [],
   "source": []
  }
 ],
 "metadata": {
  "kernelspec": {
   "display_name": "venv",
   "language": "python",
   "name": "venv"
  },
  "language_info": {
   "codemirror_mode": {
    "name": "ipython",
    "version": 3
   },
   "file_extension": ".py",
   "mimetype": "text/x-python",
   "name": "python",
   "nbconvert_exporter": "python",
   "pygments_lexer": "ipython3",
   "version": "3.9.7"
  },
  "vscode": {
   "interpreter": {
    "hash": "31f2aee4e71d21fbe5cf8b01ff0e069b9275f58929596ceb00d14d90e3e16cd6"
   }
  }
 },
 "nbformat": 4,
 "nbformat_minor": 5
}
