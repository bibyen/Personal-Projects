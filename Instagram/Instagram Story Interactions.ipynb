{
 "cells": [
  {
   "cell_type": "markdown",
   "id": "b60d89e4",
   "metadata": {},
   "source": [
    "# Imports"
   ]
  },
  {
   "cell_type": "code",
   "execution_count": 5,
   "id": "e7b6d86c",
   "metadata": {},
   "outputs": [],
   "source": [
    "import os \n",
    "import pandas as pd\n",
    "from datetime import datetime"
   ]
  },
  {
   "cell_type": "markdown",
   "id": "16fa6c17",
   "metadata": {},
   "source": [
    "# "
   ]
  },
  {
   "cell_type": "code",
   "execution_count": 23,
   "id": "e1d5b07d",
   "metadata": {},
   "outputs": [
    {
     "name": "stdout",
     "output_type": "stream",
     "text": [
      "{'2022-06-28 00:00:00': 'v.faye_20220628_part_1'}\n"
     ]
    }
   ],
   "source": [
    "validfiles = os.listdir()\n",
    "filenames = [filename for filename in validfiles if 'v.faye' in filename]\n",
    "dates_downloaded = [str(datetime.strptime(filename.split('_')[1], '%Y%m%d')) for filename in validfiles if 'v.faye' in filename]\n",
    "date_filename = list(zip(dates_downloaded, filenames))\n",
    "d_date_files = dict((x, y) for x, y in date_filename)\n",
    "print(d_date_files)"
   ]
  },
  {
   "cell_type": "code",
   "execution_count": 42,
   "id": "47f19e8d",
   "metadata": {},
   "outputs": [
    {
     "name": "stdout",
     "output_type": "stream",
     "text": [
      "______________________________________\n",
      "\n",
      "countdowns\n"
     ]
    },
    {
     "data": {
      "text/html": [
       "<div>\n",
       "<style scoped>\n",
       "    .dataframe tbody tr th:only-of-type {\n",
       "        vertical-align: middle;\n",
       "    }\n",
       "\n",
       "    .dataframe tbody tr th {\n",
       "        vertical-align: top;\n",
       "    }\n",
       "\n",
       "    .dataframe thead th {\n",
       "        text-align: right;\n",
       "    }\n",
       "</style>\n",
       "<table border=\"1\" class=\"dataframe\">\n",
       "  <thead>\n",
       "    <tr style=\"text-align: right;\">\n",
       "      <th></th>\n",
       "      <th>story_activities_countdowns</th>\n",
       "    </tr>\n",
       "  </thead>\n",
       "  <tbody>\n",
       "    <tr>\n",
       "      <th>0</th>\n",
       "      <td>{'title': 'v.faye', 'media_list_data': [], 'st...</td>\n",
       "    </tr>\n",
       "  </tbody>\n",
       "</table>\n",
       "</div>"
      ],
      "text/plain": [
       "                         story_activities_countdowns\n",
       "0  {'title': 'v.faye', 'media_list_data': [], 'st..."
      ]
     },
     "metadata": {},
     "output_type": "display_data"
    },
    {
     "name": "stdout",
     "output_type": "stream",
     "text": [
      "{'story_activities_countdowns': {'title': 'v.faye', 'media_list_data': [], 'string_list_data': [{'href': '', 'value': '', 'timestamp': 1621353600}]}}\n",
      "______________________________________\n",
      "\n",
      "story_likes\n"
     ]
    },
    {
     "data": {
      "text/html": [
       "<div>\n",
       "<style scoped>\n",
       "    .dataframe tbody tr th:only-of-type {\n",
       "        vertical-align: middle;\n",
       "    }\n",
       "\n",
       "    .dataframe tbody tr th {\n",
       "        vertical-align: top;\n",
       "    }\n",
       "\n",
       "    .dataframe thead th {\n",
       "        text-align: right;\n",
       "    }\n",
       "</style>\n",
       "<table border=\"1\" class=\"dataframe\">\n",
       "  <thead>\n",
       "    <tr style=\"text-align: right;\">\n",
       "      <th></th>\n",
       "      <th>story_activities_story_likes</th>\n",
       "    </tr>\n",
       "  </thead>\n",
       "  <tbody>\n",
       "    <tr>\n",
       "      <th>0</th>\n",
       "      <td>{'title': 'josh_cruzdardz', 'media_list_data':...</td>\n",
       "    </tr>\n",
       "    <tr>\n",
       "      <th>1</th>\n",
       "      <td>{'title': 'kathy.taladro', 'media_list_data': ...</td>\n",
       "    </tr>\n",
       "    <tr>\n",
       "      <th>2</th>\n",
       "      <td>{'title': 'alicia.kapeecia', 'media_list_data'...</td>\n",
       "    </tr>\n",
       "    <tr>\n",
       "      <th>3</th>\n",
       "      <td>{'title': 'nichooki', 'media_list_data': [], '...</td>\n",
       "    </tr>\n",
       "    <tr>\n",
       "      <th>4</th>\n",
       "      <td>{'title': 'gbbea', 'media_list_data': [], 'str...</td>\n",
       "    </tr>\n",
       "  </tbody>\n",
       "</table>\n",
       "</div>"
      ],
      "text/plain": [
       "                        story_activities_story_likes\n",
       "0  {'title': 'josh_cruzdardz', 'media_list_data':...\n",
       "1  {'title': 'kathy.taladro', 'media_list_data': ...\n",
       "2  {'title': 'alicia.kapeecia', 'media_list_data'...\n",
       "3  {'title': 'nichooki', 'media_list_data': [], '...\n",
       "4  {'title': 'gbbea', 'media_list_data': [], 'str..."
      ]
     },
     "metadata": {},
     "output_type": "display_data"
    },
    {
     "name": "stdout",
     "output_type": "stream",
     "text": [
      "{'story_activities_story_likes': {'title': 'josh_cruzdardz', 'media_list_data': [], 'string_list_data': [{'href': '', 'value': '', 'timestamp': 1656326156}]}}\n",
      "______________________________________\n",
      "\n",
      "emoji_sliders\n"
     ]
    },
    {
     "data": {
      "text/html": [
       "<div>\n",
       "<style scoped>\n",
       "    .dataframe tbody tr th:only-of-type {\n",
       "        vertical-align: middle;\n",
       "    }\n",
       "\n",
       "    .dataframe tbody tr th {\n",
       "        vertical-align: top;\n",
       "    }\n",
       "\n",
       "    .dataframe thead th {\n",
       "        text-align: right;\n",
       "    }\n",
       "</style>\n",
       "<table border=\"1\" class=\"dataframe\">\n",
       "  <thead>\n",
       "    <tr style=\"text-align: right;\">\n",
       "      <th></th>\n",
       "      <th>story_activities_emoji_sliders</th>\n",
       "    </tr>\n",
       "  </thead>\n",
       "  <tbody>\n",
       "    <tr>\n",
       "      <th>0</th>\n",
       "      <td>{'title': 'pansartstudio', 'media_list_data': ...</td>\n",
       "    </tr>\n",
       "    <tr>\n",
       "      <th>1</th>\n",
       "      <td>{'title': 'anushaakolli', 'media_list_data': [...</td>\n",
       "    </tr>\n",
       "    <tr>\n",
       "      <th>2</th>\n",
       "      <td>{'title': 'jhvjune', 'media_list_data': [], 's...</td>\n",
       "    </tr>\n",
       "    <tr>\n",
       "      <th>3</th>\n",
       "      <td>{'title': 'cutielaoboy__5', 'media_list_data':...</td>\n",
       "    </tr>\n",
       "    <tr>\n",
       "      <th>4</th>\n",
       "      <td>{'title': 'v.faye', 'media_list_data': [], 'st...</td>\n",
       "    </tr>\n",
       "  </tbody>\n",
       "</table>\n",
       "</div>"
      ],
      "text/plain": [
       "                      story_activities_emoji_sliders\n",
       "0  {'title': 'pansartstudio', 'media_list_data': ...\n",
       "1  {'title': 'anushaakolli', 'media_list_data': [...\n",
       "2  {'title': 'jhvjune', 'media_list_data': [], 's...\n",
       "3  {'title': 'cutielaoboy__5', 'media_list_data':...\n",
       "4  {'title': 'v.faye', 'media_list_data': [], 'st..."
      ]
     },
     "metadata": {},
     "output_type": "display_data"
    },
    {
     "name": "stdout",
     "output_type": "stream",
     "text": [
      "{'story_activities_emoji_sliders': {'title': 'pansartstudio', 'media_list_data': [], 'string_list_data': [{'href': '', 'value': '', 'timestamp': 1656046014}]}}\n",
      "______________________________________\n",
      "\n",
      "polls\n"
     ]
    },
    {
     "data": {
      "text/html": [
       "<div>\n",
       "<style scoped>\n",
       "    .dataframe tbody tr th:only-of-type {\n",
       "        vertical-align: middle;\n",
       "    }\n",
       "\n",
       "    .dataframe tbody tr th {\n",
       "        vertical-align: top;\n",
       "    }\n",
       "\n",
       "    .dataframe thead th {\n",
       "        text-align: right;\n",
       "    }\n",
       "</style>\n",
       "<table border=\"1\" class=\"dataframe\">\n",
       "  <thead>\n",
       "    <tr style=\"text-align: right;\">\n",
       "      <th></th>\n",
       "      <th>story_activities_polls</th>\n",
       "    </tr>\n",
       "  </thead>\n",
       "  <tbody>\n",
       "    <tr>\n",
       "      <th>0</th>\n",
       "      <td>{'title': 'aei.dgaf', 'media_list_data': [], '...</td>\n",
       "    </tr>\n",
       "    <tr>\n",
       "      <th>1</th>\n",
       "      <td>{'title': 'isaac_loweyt', 'media_list_data': [...</td>\n",
       "    </tr>\n",
       "    <tr>\n",
       "      <th>2</th>\n",
       "      <td>{'title': 'isaac_loweyt', 'media_list_data': [...</td>\n",
       "    </tr>\n",
       "    <tr>\n",
       "      <th>3</th>\n",
       "      <td>{'title': 'isaac_loweyt', 'media_list_data': [...</td>\n",
       "    </tr>\n",
       "    <tr>\n",
       "      <th>4</th>\n",
       "      <td>{'title': 'isaac_loweyt', 'media_list_data': [...</td>\n",
       "    </tr>\n",
       "  </tbody>\n",
       "</table>\n",
       "</div>"
      ],
      "text/plain": [
       "                              story_activities_polls\n",
       "0  {'title': 'aei.dgaf', 'media_list_data': [], '...\n",
       "1  {'title': 'isaac_loweyt', 'media_list_data': [...\n",
       "2  {'title': 'isaac_loweyt', 'media_list_data': [...\n",
       "3  {'title': 'isaac_loweyt', 'media_list_data': [...\n",
       "4  {'title': 'isaac_loweyt', 'media_list_data': [..."
      ]
     },
     "metadata": {},
     "output_type": "display_data"
    },
    {
     "name": "stdout",
     "output_type": "stream",
     "text": [
      "{'story_activities_polls': {'title': 'aei.dgaf', 'media_list_data': [], 'string_list_data': [{'href': '', 'value': '', 'timestamp': 1538668676}]}}\n",
      "______________________________________\n",
      "\n",
      "questions\n"
     ]
    },
    {
     "data": {
      "text/html": [
       "<div>\n",
       "<style scoped>\n",
       "    .dataframe tbody tr th:only-of-type {\n",
       "        vertical-align: middle;\n",
       "    }\n",
       "\n",
       "    .dataframe tbody tr th {\n",
       "        vertical-align: top;\n",
       "    }\n",
       "\n",
       "    .dataframe thead th {\n",
       "        text-align: right;\n",
       "    }\n",
       "</style>\n",
       "<table border=\"1\" class=\"dataframe\">\n",
       "  <thead>\n",
       "    <tr style=\"text-align: right;\">\n",
       "      <th></th>\n",
       "      <th>story_activities_questions</th>\n",
       "    </tr>\n",
       "  </thead>\n",
       "  <tbody>\n",
       "    <tr>\n",
       "      <th>0</th>\n",
       "      <td>{'title': 'daaneyel', 'media_list_data': [], '...</td>\n",
       "    </tr>\n",
       "    <tr>\n",
       "      <th>1</th>\n",
       "      <td>{'title': 'matthewcaingcoy', 'media_list_data'...</td>\n",
       "    </tr>\n",
       "    <tr>\n",
       "      <th>2</th>\n",
       "      <td>{'title': 'jelena_kovacc', 'media_list_data': ...</td>\n",
       "    </tr>\n",
       "    <tr>\n",
       "      <th>3</th>\n",
       "      <td>{'title': 'jelena_kovacc', 'media_list_data': ...</td>\n",
       "    </tr>\n",
       "    <tr>\n",
       "      <th>4</th>\n",
       "      <td>{'title': 'antondav.d', 'media_list_data': [],...</td>\n",
       "    </tr>\n",
       "  </tbody>\n",
       "</table>\n",
       "</div>"
      ],
      "text/plain": [
       "                          story_activities_questions\n",
       "0  {'title': 'daaneyel', 'media_list_data': [], '...\n",
       "1  {'title': 'matthewcaingcoy', 'media_list_data'...\n",
       "2  {'title': 'jelena_kovacc', 'media_list_data': ...\n",
       "3  {'title': 'jelena_kovacc', 'media_list_data': ...\n",
       "4  {'title': 'antondav.d', 'media_list_data': [],..."
      ]
     },
     "metadata": {},
     "output_type": "display_data"
    },
    {
     "name": "stdout",
     "output_type": "stream",
     "text": [
      "{'story_activities_questions': {'title': 'daaneyel', 'media_list_data': [], 'string_list_data': [{'href': '', 'value': '', 'timestamp': 1655557998}]}}\n",
      "______________________________________\n",
      "\n",
      "quizzes\n"
     ]
    },
    {
     "data": {
      "text/html": [
       "<div>\n",
       "<style scoped>\n",
       "    .dataframe tbody tr th:only-of-type {\n",
       "        vertical-align: middle;\n",
       "    }\n",
       "\n",
       "    .dataframe tbody tr th {\n",
       "        vertical-align: top;\n",
       "    }\n",
       "\n",
       "    .dataframe thead th {\n",
       "        text-align: right;\n",
       "    }\n",
       "</style>\n",
       "<table border=\"1\" class=\"dataframe\">\n",
       "  <thead>\n",
       "    <tr style=\"text-align: right;\">\n",
       "      <th></th>\n",
       "      <th>story_activities_quizzes</th>\n",
       "    </tr>\n",
       "  </thead>\n",
       "  <tbody>\n",
       "    <tr>\n",
       "      <th>0</th>\n",
       "      <td>{'title': 'daaneyel', 'media_list_data': [], '...</td>\n",
       "    </tr>\n",
       "    <tr>\n",
       "      <th>1</th>\n",
       "      <td>{'title': 'sapphiirec', 'media_list_data': [],...</td>\n",
       "    </tr>\n",
       "    <tr>\n",
       "      <th>2</th>\n",
       "      <td>{'title': 'camila_egusquiza', 'media_list_data...</td>\n",
       "    </tr>\n",
       "    <tr>\n",
       "      <th>3</th>\n",
       "      <td>{'title': 'josh_cruzdardz', 'media_list_data':...</td>\n",
       "    </tr>\n",
       "    <tr>\n",
       "      <th>4</th>\n",
       "      <td>{'title': 'josh_cruzdardz', 'media_list_data':...</td>\n",
       "    </tr>\n",
       "  </tbody>\n",
       "</table>\n",
       "</div>"
      ],
      "text/plain": [
       "                            story_activities_quizzes\n",
       "0  {'title': 'daaneyel', 'media_list_data': [], '...\n",
       "1  {'title': 'sapphiirec', 'media_list_data': [],...\n",
       "2  {'title': 'camila_egusquiza', 'media_list_data...\n",
       "3  {'title': 'josh_cruzdardz', 'media_list_data':...\n",
       "4  {'title': 'josh_cruzdardz', 'media_list_data':..."
      ]
     },
     "metadata": {},
     "output_type": "display_data"
    },
    {
     "name": "stdout",
     "output_type": "stream",
     "text": [
      "{'story_activities_quizzes': {'title': 'daaneyel', 'media_list_data': [], 'string_list_data': [{'href': '', 'value': '', 'timestamp': 1655799061}]}}\n"
     ]
    }
   ],
   "source": [
    "filename = 'v.faye_20220628_part_1'\n",
    "folder = 'story_sticker_interactions'\n",
    "subfolders = os.listdir(f'{filename}/{folder}')\n",
    "for sfolder in subfolders:\n",
    "    print(f'______________________________________\\n\\n{sfolder.split(\".\")[0]}')\n",
    "    df_current = pd.read_json(f'{filename}/{folder}/{sfolder}')\n",
    "    display(df_current.head())\n",
    "    print(dict(df_current.iloc[0,:]))\n",
    "\n"
   ]
  },
  {
   "cell_type": "code",
   "execution_count": 22,
   "id": "87196c72",
   "metadata": {},
   "outputs": [
    {
     "name": "stdout",
     "output_type": "stream",
     "text": [
      "['2022-06-28 00:00:00']\n",
      "['v.faye_20220628_part_1']\n",
      "[('2022-06-28 00:00:00', 'v.faye_20220628_part_1')]\n"
     ]
    },
    {
     "data": {
      "text/plain": [
       "{'2022-06-28 00:00:00': 'v.faye_20220628_part_1'}"
      ]
     },
     "execution_count": 22,
     "metadata": {},
     "output_type": "execute_result"
    }
   ],
   "source": []
  },
  {
   "cell_type": "code",
   "execution_count": null,
   "id": "df784724",
   "metadata": {},
   "outputs": [],
   "source": []
  }
 ],
 "metadata": {
  "kernelspec": {
   "display_name": "Python 3 (ipykernel)",
   "language": "python",
   "name": "python3"
  },
  "language_info": {
   "codemirror_mode": {
    "name": "ipython",
    "version": 3
   },
   "file_extension": ".py",
   "mimetype": "text/x-python",
   "name": "python",
   "nbconvert_exporter": "python",
   "pygments_lexer": "ipython3",
   "version": "3.9.7"
  }
 },
 "nbformat": 4,
 "nbformat_minor": 5
}
